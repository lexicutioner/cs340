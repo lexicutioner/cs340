{
  "metadata": {
    "kernelspec": {
      "name": "python",
      "display_name": "Pyolite",
      "language": "python"
    },
    "language_info": {
      "codemirror_mode": {
        "name": "python",
        "version": 3
      },
      "file_extension": ".py",
      "mimetype": "text/x-python",
      "name": "python",
      "nbconvert_exporter": "python",
      "pygments_lexer": "ipython3",
      "version": "3.8"
    }
  },
  "nbformat_minor": 4,
  "nbformat": 4,
  "cells": [
    {
      "cell_type": "code",
      "source": "from jupyter_plotly_dash import JupyterDash\n\nimport dash\nimport dash_leaflet as dl\nimport dash_core_components as dcc\nimport dash_html_components as html\nimport plotly.express as px\nimport dash_table as dt\nfrom dash.dependencies import Input, Output, State\n\nimport os\nimport numpy as np\nimport pandas as pd\nfrom pymongo import MongoClient\nfrom bson.json_util import dumps\n\n# change animal_shelter and AnimalShelter to match your CRUD Python module file name and class name\nfrom AnimalShelter import AnimalShelter\n\n\n\n###########################\n# Data Manipulation / Model\n###########################\n\nusername = \"accuser\"\npassword = \"AACuser\"\nshelter = AnimalShelter(username, password)\n\n\n# class read method must support return of cursor object \ndf = pd.DataFrame.from_records(shelter.read({})\n\n\n\n#########################\n# Dashboard Layout / View\n#########################\napp = JupyterDash('SimpleExample')\n\nimage_filename = 'grazioso.png' # replace with your own image\nencoded_image = base64.b64encode(open(image_filename, 'rb').read())\n\napp.layout = html.Div([\n    html.Div(id='hidden-div', style={'display':'none'}),\n    html.Img(src='data:image/png;base64,{}'.format(encoded_image.decode())),\n    html.Center(html.B(html.H1('Alexis Fuerte SNHU CS-340 MongoDB Dashboard'))),\n    html.Hr(),\n    html.Div(\n        \n    dcc.RadioItems(\n        id='filter-type',\n        options=[\n            {'label': 'Water Rescue', 'value': 'WR'},\n            {'label': 'Mountain or Wilderness Rescue', 'value': 'MWR'},\n            {'label': 'Disaster or Individual Tracking', 'value': 'DIT'},\n            {'label': 'Reset', 'value': 'R'},\n        ],\n        value='Reset'\n    ),\n    html.Hr(),\n    dt.DataTable(\n        id='datatable-id',\n        columns=[\n            {\"name\": i, \"id\": i, \"deletable\": False, \"selectable\": True} for i in df.columns\n        ],\n        data=df.to_dict('records'),\n\n        #If you completed the Module Six Assignment, you can copy in the code you created here \n        editable=False,\n        sort_action=\"native\",\n        sort_mode=\"multi\",\n        column_selectable=True,\n        row_selectable=True,\n        row_deletable=False,\n        selected_columns=[],\n        selected_rows=[0],\n        page_action=\"native\",\n        page_current= 0,\n        page_size= 10,   \n    ),\n    html.Br(),\n    html.Hr(),\n#This sets up the dashboard so that your chart and your geolocation chart are side-by-side\n    html.Div(className='row',\n         style={'display' : 'flex'},\n             children=[\n        html.Div(\n            id='graph-id',\n            className='col s12 m6',\n\n            ),\n        html.Div(\n            id='map-id',\n            className='col s12 m6',\n            )\n        ])\n])\n\n#############################################\n# Interaction Between Components / Controller\n#############################################\n\n\n\n    \n@app.callback([Output('datatable-id','data'),\n               Output('datatable-id','columns')],\n              [Input('filter-type', 'value')])\ndef update_dashboard(filter_type):\n        if filter_type == 'R':\n            new_df = df                   \n        elif filter_type == 'WR':                      \n            new_df = dfwr\n        elif filter_type == 'MWR':                       \n            new_df = dfmwr                   \n        elif filter_type == 'DIT':                       \n            new_df = dfdit                   \n        else:                       \n            new_df = df                  \n        data = new_df.to_dict('records')                       \n                               \n        columns=[\n            {'name': 'Animal Id', 'id': 'animal_id', 'type': 'text', 'editable': False}\n            {'name': 'Type', 'id': 'animal_type', 'type': 'text'},\n            {'name': 'Breed', 'id': 'breed', 'type': 'text'},\n            {'name': 'Color', 'id': 'color', 'type': 'text'},\n            {'name': 'Birthday', 'id': 'date_of_birth', 'type': 'date'},\n            {'name': 'DateTime', 'id': 'datetime', 'type': 'datetime'},\n            {'name': 'monthyear', 'id': 'monthyear', 'type': 'datetime'},\n            {'name': 'Animal Name', 'id': 'name', 'type': 'text'},\n            {'name': 'Outcome', 'id': 'outcome_type', 'type': 'text'},\n            {'name': 'Outcome Subtype', 'id': 'outcome_subtype', 'type': 'text'},\n            {'name': 'Sex', 'id': 'sex_upon_outcome', 'type': 'text'},           \n            {'name': 'Age', 'id': 'age_upon_outcome_in_weeks', 'type': 'numeric', \n             'format: Format(\n                 scheme=scheme.fixed,\n                 precision=2\n                 decimal_delimiter='.')},\n            {'name': 'Latitude', 'id': 'location_lat', 'type': 'numeric',\n                 scheme=Scheme.fixed,\n                 precision=3\n                 group=Group.yes,\n                 groups=3,\n                 group_delimiter=' ',\n                 decimal_delimiter='.')},\n            {'name': 'Longitutde', 'id': 'location_long', 'type': 'numeric',\n                 scheme=Scheme.fixed,\n                 precision=3\n                 group=Group.yes,\n                 groups=3,\n                 group_delimiter=' ',\n                 decimal_delimiter='.')},            \n        ]\n                               \n        return (data,columns)\n\n\n\n\n@app.callback(\n    Output('datatable-id', 'style_data_conditional'),\n    [Input('datatable-id', 'selected_columns')]\n)\ndef update_styles(selected_columns):\n    return [{\n        'if': { 'column_id': i },\n        'background_color': '#D2F3FF'\n    } for i in selected_columns]\n\n@app.callback(\n    Output('graph-id', \"children\"),\n    [Input('datatable-id', \"derived_viewport_data\")])\ndef update_graphs(viewData):\n #convert data to pandas dataframe\n    dff = pd.DataFrame.from_dict(viewData)\n    #count by breed occurrence\n    new_df = dff.breed.value_counts()\n    new_df.name = \"breed\"\n    new_df = new_df.to_frame()\n    new_df.reset_index(inplace=True)\n                               \n    #return updated graph data\n    return [\n    dcc.Graph(\n    figure = px.pie(new_df, values=\"breed\", names=\"index\")\n    )\n    ]\n\n@app.callback(\n    Output('map-id', \"children\"),\n    [Input('datatable-id', \"derived_viewport_data\")])\ndef update_map(viewData):\n    odff = df if viewData is None else pd.DataFrame.from_dict(viewData)\n    if row is None:\n       dff = odff\n    else:\n       dff = odff.iloc[row,:]                        \n                               \n    map = [\n        dl.Map(style={'width': '1000px', 'height': '500px'}, center=[30.75,-97.48], zoom=10, children=[\n            dl.TileLayer(id=\"base-layer-id\"),\n            dl.Marker(position=[dff,iloc[0,13],dff.iloc[0,14]], children=[\n                dl.Tooltip(dff.iloc[0,4]),\n                dl.Popup([\n                    html.H1(\"Animal Name\"),\n                    html.P(dff.iloc[0,9]),\n\n                    \n                ])\n            ])\n        ])\n    ]\n\n\n\n\napp",
      "metadata": {
        "scrolled": true,
        "trusted": true
      },
      "execution_count": 4,
      "outputs": [
        {
          "ename": "<class 'SyntaxError'>",
          "evalue": "invalid syntax. Perhaps you forgot a comma? (<ipython-input-4-d3fd4c17b132>, line 35)",
          "traceback": [
            "\u001b[0;36m  Input \u001b[0;32mIn [4]\u001b[0;36m\u001b[0m\n\u001b[0;31m    df = pd.DataFrame.from_records(shelter.read({})\u001b[0m\n\u001b[0m                                   ^\u001b[0m\n\u001b[0;31mSyntaxError\u001b[0m\u001b[0;31m:\u001b[0m invalid syntax. Perhaps you forgot a comma?\n"
          ],
          "output_type": "error"
        }
      ]
    },
    {
      "cell_type": "code",
      "source": "",
      "metadata": {},
      "execution_count": null,
      "outputs": []
    },
    {
      "cell_type": "code",
      "source": "",
      "metadata": {},
      "execution_count": null,
      "outputs": []
    },
    {
      "cell_type": "code",
      "source": "",
      "metadata": {},
      "execution_count": null,
      "outputs": []
    }
  ]
}